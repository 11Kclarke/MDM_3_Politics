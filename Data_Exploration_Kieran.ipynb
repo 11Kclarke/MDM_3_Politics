{
 "cells": [
  {
   "cell_type": "code",
   "execution_count": 4,
   "metadata": {},
   "outputs": [],
   "source": [
    "import pandas as pd\n",
    "import numpy as np\n",
    "import itertools"
   ]
  },
  {
   "cell_type": "code",
   "execution_count": 5,
   "metadata": {},
   "outputs": [],
   "source": [
    "\n",
    "\n",
    "df = pd.read_spss('data.sav')\n"
   ]
  },
  {
   "cell_type": "markdown",
   "metadata": {},
   "source": [
    "The following code is the extraction of the questions from the original data set"
   ]
  },
  {
   "cell_type": "code",
   "execution_count": 74,
   "metadata": {},
   "outputs": [],
   "source": [
    "answers = []\n",
    "for col in df.columns:\n",
    "    \n",
    "    answersforcol =[]\n",
    "    count = 0\n",
    "    for i in df[col]:\n",
    "        i=str(i)\n",
    "        if i not in answersforcol and not i.isdigit() and \".\" not in i:#is digit removes ints . removes floats if someones put a . in there written answer fuckem\n",
    "            answersforcol.append(i)\n",
    "    \n",
    "        if i not in answers and not i.isdigit() and \".\" not in i:\n",
    "            answers.append(i)\n",
    "        count+=1\n",
    "        if count > 300:\n",
    "            break\n",
    "    #print(\"potential answers for \"+str(col))\n",
    "    #print(answersforcol)\n",
    "\n",
    "#print(\"total list of answers:\")\n",
    "#print(answers)\n",
    "#prefixes = ['Fairly likely','Very likely','Very unlikely', 'Fairly unlikely',\"Don't know\",'Neither likely nor unlikely','A little','Not at all','Not very strong', 'nan', 'Very strong', 'Fairly strong', \"Don't know\"]\n",
    "\n"
   ]
  },
  {
   "cell_type": "code",
   "execution_count": 6,
   "metadata": {},
   "outputs": [],
   "source": [
    "economy_list = ['deficitReduce','overseasAid','changeEconomy','econGenRetro','econPersonalRetro','economyResponsible','selfPriorities_econ']\n",
    "enviornment_list = ['climateChange','enviroGrowth','selfPriorities_environment']\n",
    "immig_list = ['immigCultural','immigSelf','changeImmig','immigEcon','controlImmig']\n",
    "health_list = ['selfPriorities_nhs','effectsEUNHS','changeNHS']\n",
    "brexit_list = ['EUIntegrationSelf','cantLiveWithEU_1','cantLiveWithEU_2','cantLiveWithEU_3','cantLiveWithEU_4','selfPriorities_brexit','euRefVote','dealVremain','remainVnodeal','effectsEUUnemployment','effectsEUTrade','effectsEUImmigration','effectsEUTerror','effectsEUEcon','dealGoodBad','happyEULeave','euID','euRefDoOver','cancelBrexit']"
   ]
  },
  {
   "cell_type": "code",
   "execution_count": 7,
   "metadata": {},
   "outputs": [
    {
     "name": "stdout",
     "output_type": "stream",
     "text": [
      "['partyId', 'deficitReduce', 'overseasAid', 'changeEconomy', 'econGenRetro', 'econPersonalRetro', 'economyResponsible', 'selfPriorities_econ', 'climateChange', 'enviroGrowth', 'selfPriorities_environment', 'immigCultural', 'immigSelf', 'changeImmig', 'immigEcon', 'controlImmig', 'selfPriorities_nhs', 'effectsEUNHS', 'changeNHS', 'EUIntegrationSelf', 'cantLiveWithEU_1', 'cantLiveWithEU_2', 'cantLiveWithEU_3', 'cantLiveWithEU_4', 'selfPriorities_brexit', 'euRefVote', 'dealVremain', 'remainVnodeal', 'effectsEUUnemployment', 'effectsEUTrade', 'effectsEUImmigration', 'effectsEUTerror', 'effectsEUEcon', 'dealGoodBad', 'happyEULeave', 'euID', 'euRefDoOver', 'cancelBrexit']\n"
     ]
    }
   ],
   "source": [
    "total_list = [economy_list,enviornment_list,immig_list,health_list,brexit_list]\n",
    "flat_list = [item for l in total_list for item in l]\n",
    "flat_list.insert(0,'partyId')\n",
    "print(flat_list)\n"
   ]
  },
  {
   "cell_type": "code",
   "execution_count": 42,
   "metadata": {},
   "outputs": [],
   "source": [
    "extracted_data = df.loc[:,flat_list]\n",
    "extracted_data.columns= extracted_data.columns.str.strip().str.lower()"
   ]
  },
  {
   "cell_type": "code",
   "execution_count": 56,
   "metadata": {},
   "outputs": [],
   "source": [
    "extracted_data.to_csv('extractd_data.csv')"
   ]
  },
  {
   "cell_type": "markdown",
   "metadata": {},
   "source": [
    "This section of code is preparing the data for use with k-modes, to see how the data clusters initially - K-modes uses a dissimalarity method"
   ]
  },
  {
   "cell_type": "code",
   "execution_count": 9,
   "metadata": {},
   "outputs": [],
   "source": [
    "from sklearn import preprocessing"
   ]
  },
  {
   "cell_type": "code",
   "execution_count": 82,
   "metadata": {},
   "outputs": [
    {
     "name": "stdout",
     "output_type": "stream",
     "text": [
      "<class 'pandas.core.frame.DataFrame'>\n",
      "RangeIndex: 34366 entries, 0 to 34365\n",
      "Data columns (total 38 columns):\n",
      " #   Column                      Non-Null Count  Dtype   \n",
      "---  ------                      --------------  -----   \n",
      " 0   partyid                     34366 non-null  category\n",
      " 1   deficitreduce               8647 non-null   category\n",
      " 2   overseasaid                 34366 non-null  category\n",
      " 3   changeeconomy               34366 non-null  category\n",
      " 4   econgenretro                34366 non-null  category\n",
      " 5   econpersonalretro           34366 non-null  category\n",
      " 6   economyresponsible          34366 non-null  category\n",
      " 7   selfpriorities_econ         8663 non-null   category\n",
      " 8   climatechange               8488 non-null   category\n",
      " 9   envirogrowth                34366 non-null  category\n",
      " 10  selfpriorities_environment  8663 non-null   category\n",
      " 11  immigcultural               34366 non-null  category\n",
      " 12  immigself                   34366 non-null  category\n",
      " 13  changeimmig                 34366 non-null  category\n",
      " 14  immigecon                   34366 non-null  category\n",
      " 15  controlimmig                34366 non-null  category\n",
      " 16  selfpriorities_nhs          8663 non-null   category\n",
      " 17  effectseunhs                34366 non-null  category\n",
      " 18  changenhs                   34366 non-null  category\n",
      " 19  euintegrationself           34366 non-null  category\n",
      " 20  cantlivewitheu_1            34366 non-null  category\n",
      " 21  cantlivewitheu_2            34366 non-null  category\n",
      " 22  cantlivewitheu_3            34366 non-null  category\n",
      " 23  cantlivewitheu_4            34366 non-null  category\n",
      " 24  selfpriorities_brexit       8663 non-null   category\n",
      " 25  eurefvote                   34041 non-null  category\n",
      " 26  dealvremain                 33809 non-null  category\n",
      " 27  remainvnodeal               8542 non-null   category\n",
      " 28  effectseuunemployment       34366 non-null  category\n",
      " 29  effectseutrade              34366 non-null  category\n",
      " 30  effectseuimmigration        34366 non-null  category\n",
      " 31  effectseuterror             34366 non-null  category\n",
      " 32  effectseuecon               34366 non-null  category\n",
      " 33  dealgoodbad                 34366 non-null  category\n",
      " 34  happyeuleave                34366 non-null  category\n",
      " 35  euid                        34366 non-null  category\n",
      " 36  eurefdoover                 34366 non-null  category\n",
      " 37  cancelbrexit                34366 non-null  category\n",
      "dtypes: category(38)\n",
      "memory usage: 1.3 MB\n"
     ]
    }
   ],
   "source": [
    "extracted_data.info()\n",
    "\n",
    "\n",
    "#seeing the data types we have extracted and their ammount of null values"
   ]
  },
  {
   "cell_type": "code",
   "execution_count": 76,
   "metadata": {},
   "outputs": [
    {
     "data": {
      "text/plain": [
       "partyId                           0\n",
       "deficitReduce                 25719\n",
       "overseasAid                       0\n",
       "changeEconomy                     0\n",
       "econGenRetro                      0\n",
       "econPersonalRetro                 0\n",
       "economyResponsible                0\n",
       "selfPriorities_econ           25703\n",
       "climateChange                 25878\n",
       "enviroGrowth                      0\n",
       "selfPriorities_environment    25703\n",
       "immigCultural                     0\n",
       "immigSelf                         0\n",
       "changeImmig                       0\n",
       "immigEcon                         0\n",
       "controlImmig                      0\n",
       "selfPriorities_nhs            25703\n",
       "effectsEUNHS                      0\n",
       "changeNHS                         0\n",
       "EUIntegrationSelf                 0\n",
       "cantLiveWithEU_1                  0\n",
       "cantLiveWithEU_2                  0\n",
       "cantLiveWithEU_3                  0\n",
       "cantLiveWithEU_4                  0\n",
       "selfPriorities_brexit         25703\n",
       "euRefVote                       325\n",
       "dealVremain                     557\n",
       "remainVnodeal                 25824\n",
       "effectsEUUnemployment             0\n",
       "effectsEUTrade                    0\n",
       "effectsEUImmigration              0\n",
       "effectsEUTerror                   0\n",
       "effectsEUEcon                     0\n",
       "dealGoodBad                       0\n",
       "happyEULeave                      0\n",
       "euID                              0\n",
       "euRefDoOver                       0\n",
       "cancelBrexit                      0\n",
       "dtype: int64"
      ]
     },
     "execution_count": 76,
     "metadata": {},
     "output_type": "execute_result"
    }
   ],
   "source": [
    "extracted_data.isna().sum()"
   ]
  },
  {
   "cell_type": "markdown",
   "metadata": {},
   "source": [
    "So we want to replace each of the NaN values with an unambiguous category, for example Don't know or impartial.... This has to be done manually for each value with a NaN "
   ]
  },
  {
   "cell_type": "code",
   "execution_count": 87,
   "metadata": {},
   "outputs": [
    {
     "data": {
      "text/plain": [
       "0        Don't know\n",
       "1        Don't know\n",
       "2               Yes\n",
       "3                No\n",
       "4        Don't know\n",
       "            ...    \n",
       "34361    Don't know\n",
       "34362            No\n",
       "34363    Don't know\n",
       "34364           Yes\n",
       "34365    Don't know\n",
       "Name: selfPriorities_brexit, Length: 34366, dtype: category\n",
       "Categories (3, object): ['Don't know', 'No', 'Yes']"
      ]
     },
     "execution_count": 87,
     "metadata": {},
     "output_type": "execute_result"
    }
   ],
   "source": [
    "extracted_data.loc[:,'selfPriorities_brexit']\n"
   ]
  },
  {
   "cell_type": "markdown",
   "metadata": {},
   "source": [
    "This example is explained, we find the categories available and choose one that can be a fitting replacement for the NaN and we then replace it with the fillna command"
   ]
  },
  {
   "cell_type": "code",
   "execution_count": 94,
   "metadata": {},
   "outputs": [
    {
     "name": "stdout",
     "output_type": "stream",
     "text": [
      "0\n"
     ]
    }
   ],
   "source": [
    "extracted_data['selfPriorities_brexit']=extracted_data['selfPriorities_brexit'].fillna(\"Don't know\")\n",
    "print(extracted_data['selfPriorities_brexit'].isna().sum())\n",
    "#now we can see that all the NaN values have been replaced, we then need to continue with this for each of the variables containing NaNs"
   ]
  },
  {
   "cell_type": "code",
   "execution_count": 96,
   "metadata": {},
   "outputs": [],
   "source": [
    "extracted_data['deficitReduce'] = extracted_data['deficitReduce'].fillna(\"Don't know\")"
   ]
  },
  {
   "cell_type": "code",
   "execution_count": 100,
   "metadata": {},
   "outputs": [],
   "source": [
    "extracted_data['selfPriorities_econ'] = extracted_data['selfPriorities_econ'].fillna(\"Don't know\")\n"
   ]
  },
  {
   "cell_type": "code",
   "execution_count": 102,
   "metadata": {},
   "outputs": [],
   "source": [
    "extracted_data['climateChange'] =  extracted_data['climateChange'].fillna(\"Don't know\")"
   ]
  },
  {
   "cell_type": "code",
   "execution_count": 105,
   "metadata": {},
   "outputs": [],
   "source": [
    "extracted_data['selfPriorities_environment'] = extracted_data['selfPriorities_environment'].fillna(\"Don't know\")"
   ]
  },
  {
   "cell_type": "code",
   "execution_count": 107,
   "metadata": {},
   "outputs": [],
   "source": [
    "extracted_data['selfPriorities_nhs'] = extracted_data['selfPriorities_nhs'].fillna(\"Don't know\")"
   ]
  },
  {
   "cell_type": "code",
   "execution_count": 109,
   "metadata": {},
   "outputs": [],
   "source": [
    "extracted_data['euRefVote'] = extracted_data['euRefVote'].fillna(\"Don't know\")"
   ]
  },
  {
   "cell_type": "code",
   "execution_count": 17,
   "metadata": {},
   "outputs": [],
   "source": [
    "extracted_data['dealVremain'] = extracted_data['dealVremain'].fillna(\"Don't know\")"
   ]
  },
  {
   "cell_type": "code",
   "execution_count": 120,
   "metadata": {},
   "outputs": [],
   "source": [
    "extracted_data['remainVnodeal'] = extracted_data['remainVnodeal'].replace(9999.0, \"Don't know\") \n",
    "extracted_data['remainVnodeal'] = extracted_data['remainVnodeal'].fillna(\"Don't know\")\n"
   ]
  },
  {
   "cell_type": "code",
   "execution_count": 12,
   "metadata": {},
   "outputs": [
    {
     "name": "stdout",
     "output_type": "stream",
     "text": [
      "economyresponsible\n",
      "remainvnodeal\n"
     ]
    }
   ],
   "source": [
    "for col in extracted_data.columns:\n",
    "    try:\n",
    "        extracted_data[col] = extracted_data[col].fillna(\"Don't know\")#we should centre our numerical stuff about 0\n",
    "    except:\n",
    "        print(col)"
   ]
  },
  {
   "cell_type": "markdown",
   "metadata": {},
   "source": [
    "Now we have no NaN values as evidenced bellow"
   ]
  },
  {
   "cell_type": "code",
   "execution_count": 13,
   "metadata": {},
   "outputs": [
    {
     "data": {
      "text/plain": [
       "partyid                           0\n",
       "deficitreduce                     0\n",
       "overseasaid                       0\n",
       "changeeconomy                     0\n",
       "econgenretro                      0\n",
       "econpersonalretro                 0\n",
       "economyresponsible                0\n",
       "selfpriorities_econ               0\n",
       "climatechange                     0\n",
       "envirogrowth                      0\n",
       "selfpriorities_environment        0\n",
       "immigcultural                     0\n",
       "immigself                         0\n",
       "changeimmig                       0\n",
       "immigecon                         0\n",
       "controlimmig                      0\n",
       "selfpriorities_nhs                0\n",
       "effectseunhs                      0\n",
       "changenhs                         0\n",
       "euintegrationself                 0\n",
       "cantlivewitheu_1                  0\n",
       "cantlivewitheu_2                  0\n",
       "cantlivewitheu_3                  0\n",
       "cantlivewitheu_4                  0\n",
       "selfpriorities_brexit             0\n",
       "eurefvote                         0\n",
       "dealvremain                       0\n",
       "remainvnodeal                 25824\n",
       "effectseuunemployment             0\n",
       "effectseutrade                    0\n",
       "effectseuimmigration              0\n",
       "effectseuterror                   0\n",
       "effectseuecon                     0\n",
       "dealgoodbad                       0\n",
       "happyeuleave                      0\n",
       "euid                              0\n",
       "eurefdoover                       0\n",
       "cancelbrexit                      0\n",
       "dtype: int64"
      ]
     },
     "execution_count": 13,
     "metadata": {},
     "output_type": "execute_result"
    }
   ],
   "source": [
    "extracted_data.isna().sum()"
   ]
  },
  {
   "cell_type": "markdown",
   "metadata": {},
   "source": [
    "Now some data exploration of the representation of each party, as well as seeing how the questions may split each of them up"
   ]
  },
  {
   "cell_type": "code",
   "execution_count": 14,
   "metadata": {},
   "outputs": [
    {
     "name": "stdout",
     "output_type": "stream",
     "text": [
      "potential answers for partyid\n",
      "['Labour', 'No - none', 'Liberal Democrat', 'Conservative', 'Plaid Cymru', 'Brexit Party', \"Don't know\", 'Green Party', 'Scottish National Party (SNP)', 'Other']\n",
      "potential answers for deficitreduce\n",
      "[\"Don't know\", 'It is important but not absolutely  necessary', 'It is not necessary but it would be desirable', 'It is completely necessary', 'It is completely unnecessary']\n",
      "potential answers for overseasaid\n",
      "['Disagree', 'Neither agree nor disagree', 'Strongly agree', 'Agree', 'Strongly disagree', \"Don't know\"]\n",
      "potential answers for changeeconomy\n",
      "['Getting a lot worse', 'Staying about the same', 'Getting a little worse', 'Getting a lot better', \"Don't know\", 'Getting a little better']\n",
      "potential answers for econgenretro\n",
      "['Got a little worse', 'Stayed the same', 'Got a lot worse', \"Don't know\", 'Got a little better']\n",
      "potential answers for econpersonalretro\n",
      "['Got a little worse', 'Stayed the same', \"Don't know\", 'Got a little better', 'Got a lot worse', 'Got a lot better']\n",
      "potential answers for economyresponsible\n",
      "['A great deal', 'A moderate amount', 'Don\\x92t know', 'A lot', 'A little', 'Not at all']\n",
      "potential answers for selfpriorities_econ\n",
      "[\"Don't know\", 'Yes', 'No']\n",
      "potential answers for climatechange\n",
      "['Climate changing due to human activity', \"Don't know\", 'Climate not changing', 'Climate changing but not due to human activity']\n",
      "potential answers for envirogrowth\n",
      "[\"Don't know\", 'Protecting the environment should have priority', 'Economic growth should have priority']\n",
      "potential answers for selfpriorities_environment\n",
      "[\"Don't know\", 'Yes', 'No']\n",
      "potential answers for immigcultural\n",
      "['Enriches cultural life', \"Don't know\", 'Undermines cultural life']\n",
      "potential answers for immigself\n",
      "[\"Don't know\", 'Allow many fewer', 'Allow many more']\n",
      "potential answers for changeimmig\n",
      "['Staying about the same', \"Don't know\", 'Getting a lot higher', 'Getting a lot lower', 'Getting a little lower', 'Getting a little higher']\n",
      "potential answers for immigecon\n",
      "['Good for economy', 'Bad for economy', \"Don't know\"]\n",
      "potential answers for controlimmig\n",
      "['A little control', 'Some control', 'No control at all', \"Don't know\", 'A lot of control', 'Complete control']\n",
      "potential answers for selfpriorities_nhs\n",
      "[\"Don't know\", 'Yes', 'No']\n",
      "potential answers for effectseunhs\n",
      "['Worse', 'Better', \"Don't know\", 'About the same', 'Much worse', 'Much better']\n",
      "potential answers for changenhs\n",
      "['Getting a lot worse', 'Getting a little worse', 'Getting a lot better', 'Staying about the same', 'Getting a little better', \"Don't know\"]\n",
      "potential answers for euintegrationself\n",
      "['Unite fully with the European Union', 'Protect our independence', \"Don't know\"]\n",
      "potential answers for cantlivewitheu_1\n",
      "['Acceptable', \"Don't know\", 'Unacceptable']\n",
      "potential answers for cantlivewitheu_2\n",
      "['Acceptable', 'Unacceptable', \"Don't know\"]\n",
      "potential answers for cantlivewitheu_3\n",
      "['Acceptable', 'Unacceptable', \"Don't know\"]\n",
      "potential answers for cantlivewitheu_4\n",
      "['Unacceptable', 'Acceptable', \"Don't know\"]\n",
      "potential answers for selfpriorities_brexit\n",
      "[\"Don't know\", 'Yes', 'No']\n",
      "potential answers for eurefvote\n",
      "['Stay/remain in the EU', 'Leave the EU', 'I would/will not vote', \"Don't know\"]\n",
      "potential answers for dealvremain\n",
      "['Remain in the EU', \"The government's withdrawal deal\", \"Don't know\", 'I would not vote']\n",
      "potential answers for remainvnodeal\n",
      "['nan', 'Leave without a deal', 'Remain in the EU', 'I would not vote']\n",
      "potential answers for effectseuunemployment\n",
      "['Much higher', 'Higher', 'Lower', 'About the same', \"Don't know\", 'Much lower']\n",
      "potential answers for effectseutrade\n",
      "['About the same', 'Much higher', 'Lower', 'Higher', \"Don't know\", 'Much lower']\n",
      "potential answers for effectseuimmigration\n",
      "['About the same', 'Lower', 'Higher', \"Don't know\", 'Much lower', 'Much higher']\n",
      "potential answers for effectseuterror\n",
      "['Higher', 'About the same', \"Don't know\", 'Lower', 'Much higher', 'Much lower']\n",
      "potential answers for effectseuecon\n",
      "['Worse', 'About the same', 'Better', \"Don't know\", 'Much worse', 'Much better']\n",
      "potential answers for dealgoodbad\n",
      "[\"Don't know\", 'Neither good nor bad', 'Bad', 'Very bad', 'Good', 'Very good']\n",
      "potential answers for happyeuleave\n",
      "['Extremely disappointed', \"Don't know\", 'Extremely happy']\n",
      "potential answers for euid\n",
      "['The remain side', 'The leave side', \"Don't know\", 'Neither']\n",
      "potential answers for eurefdoover\n",
      "['Yes', 'No', \"Don't know\"]\n",
      "potential answers for cancelbrexit\n",
      "['Disagree', 'Strongly disagree', 'Strongly agree', 'Agree', \"Don't know\", 'Neither agree nor disagree']\n",
      "total list of answers:\n",
      "['Labour', 'No - none', 'Liberal Democrat', 'Conservative', 'Plaid Cymru', 'Brexit Party', \"Don't know\", 'Green Party', 'Scottish National Party (SNP)', 'Other', 'It is important but not absolutely  necessary', 'It is not necessary but it would be desirable', 'It is completely necessary', 'It is completely unnecessary', 'Disagree', 'Neither agree nor disagree', 'Strongly agree', 'Agree', 'Strongly disagree', 'Getting a lot worse', 'Staying about the same', 'Getting a little worse', 'Getting a lot better', 'Getting a little better', 'Got a little worse', 'Stayed the same', 'Got a lot worse', 'Got a little better', 'Got a lot better', 'A great deal', 'A moderate amount', 'Don\\x92t know', 'A lot', 'A little', 'Not at all', 'Yes', 'No', 'Climate changing due to human activity', 'Climate not changing', 'Climate changing but not due to human activity', 'Protecting the environment should have priority', 'Economic growth should have priority', 'Enriches cultural life', 'Undermines cultural life', 'Allow many fewer', 'Allow many more', 'Getting a lot higher', 'Getting a lot lower', 'Getting a little lower', 'Getting a little higher', 'Good for economy', 'Bad for economy', 'A little control', 'Some control', 'No control at all', 'A lot of control', 'Complete control', 'Worse', 'Better', 'About the same', 'Much worse', 'Much better', 'Unite fully with the European Union', 'Protect our independence', 'Acceptable', 'Unacceptable', 'Stay/remain in the EU', 'Leave the EU', 'I would/will not vote', 'Remain in the EU', \"The government's withdrawal deal\", 'I would not vote', 'nan', 'Leave without a deal', 'Much higher', 'Higher', 'Lower', 'Much lower', 'Neither good nor bad', 'Bad', 'Very bad', 'Good', 'Very good', 'Extremely disappointed', 'Extremely happy', 'The remain side', 'The leave side', 'Neither']\n"
     ]
    }
   ],
   "source": [
    "answers = []\n",
    "for col in extracted_data.columns:\n",
    "    \n",
    "    answersforcol =[]\n",
    "    count = 0\n",
    "    for i in extracted_data[col]:\n",
    "        i=str(i)\n",
    "        if i not in answersforcol and not i.isdigit() and \".\" not in i:#is digit removes ints . removes floats if someones put a . in there written answer fuckem\n",
    "            answersforcol.append(i)\n",
    "    \n",
    "        if i not in answers and not i.isdigit() and \".\" not in i:\n",
    "            answers.append(i)\n",
    "        count+=1\n",
    "        if count > 300:\n",
    "            break\n",
    "    print(\"potential answers for \"+str(col))\n",
    "    print(answersforcol)\n",
    "\n",
    "print(\"total list of answers:\")\n",
    "print(answers)\n"
   ]
  },
  {
   "cell_type": "code",
   "execution_count": 15,
   "metadata": {},
   "outputs": [],
   "source": [
    "#manually sort prefixes\n",
    "prefixes = [['nan','It is completely necessary', 'It is important but not absolutely  necessary', 'It is not necessary but it would be desirable', \"Don't know\",  'It is completely unnecessary'],\n",
    "['Strongly disagree','Disagree', 'Neither agree nor disagree', 'Agree', 'Strongly agree',  \"Don't know\"]]\n",
    "\n",
    "def listoverlap(list1,list2):\n",
    "    for i in list1:\n",
    "        if i in list2:\n",
    "            \n",
    "            return True\n",
    "    return False\n"
   ]
  },
  {
   "cell_type": "code",
   "execution_count": 31,
   "metadata": {},
   "outputs": [],
   "source": [
    "linguisticprefixes = ['Strongly',\"much\",\"lot\",\"little\",\"bad\",\"good\",\"very\",\"extremely\",\"neither\",\"higher\",\"lower\",\"moderate\",\"absolutely\", 'worse', 'better', 'about the same','A little']\n",
    "problemwords = [\"not\",\"disagree\"]\n",
    "for i in range(len(linguisticprefixes)):\n",
    "    linguisticprefixes[i]=linguisticprefixes[i].lower()\n",
    "\n",
    "answersnopre = []\n",
    "for i in answers:\n",
    "    i = str(i)\n",
    "    i=i.lower()\n",
    "    contains = False\n",
    "    for k in linguisticprefixes:\n",
    "        if k in i:\n",
    "            contains = True\n",
    "    if not contains:\n",
    "        \n",
    "        answersnopre.append(i)\n",
    "    \n",
    "        "
   ]
  },
  {
   "cell_type": "code",
   "execution_count": 32,
   "metadata": {},
   "outputs": [
    {
     "name": "stdout",
     "output_type": "stream",
     "text": [
      "can probably be sorted:\n",
      "['changeeconomy', 'econpersonalretro', 'changeimmig', 'controlimmig', 'effectseunhs', 'effectseuunemployment', 'effectseuimmigration', 'effectseuecon', 'happyeuleave']\n",
      "gonna require manual sorting:\n",
      "['deficitreduce', 'cancelbrexit']\n",
      "can be 1 hot encoded:\n",
      "['partyid', 'overseasaid', 'econgenretro', 'economyresponsible', 'selfpriorities_econ', 'climatechange', 'envirogrowth', 'selfpriorities_environment', 'immigcultural', 'immigself', 'immigecon', 'selfpriorities_nhs', 'changenhs', 'euintegrationself', 'cantlivewitheu_1', 'cantlivewitheu_2', 'cantlivewitheu_3', 'cantlivewitheu_4', 'selfpriorities_brexit', 'eurefvote', 'dealvremain', 'remainvnodeal', 'effectseutrade', 'effectseuterror', 'dealgoodbad', 'euid', 'eurefdoover']\n"
     ]
    }
   ],
   "source": [
    "#sorts the collums\n",
    "colnames = []\n",
    "for i in extracted_data.columns:\n",
    "    colnames.append(i)\n",
    "    #print(i)\n",
    "\n",
    "orderedcolumns = []\n",
    "columnsneedmanualsorting = []\n",
    "onehotable = colnames#assumes all can be 1 hotted in beggining\n",
    "for col in colnames:\n",
    "    \n",
    "    count=0\n",
    "    for i in extracted_data[col]:\n",
    "        i=str(i).lower()\n",
    "        \n",
    "        if(listoverlap(i.split(),linguisticprefixes)):#checks for overlap between lists\n",
    "            \n",
    "            orderedcolumns.append(col)\n",
    "            onehotable.remove(col)#if needs sorting cannot be 1 hotted\n",
    "            break#break if found atleast one instance of words that need ordering\n",
    "        count+=1\n",
    "        if count> 1000:\n",
    "            break\n",
    "\n",
    "\n",
    "for col in orderedcolumns:\n",
    "    for k in extracted_data[col]:\n",
    "        k=str(k).lower()\n",
    "        if listoverlap(k.split(),problemwords):\n",
    "            orderedcolumns.remove(str(col))\n",
    "            columnsneedmanualsorting.append(col)\n",
    "            break\n",
    "        \n",
    "            #if data contains problem words algorithm wont work so we need to sort it manually\n",
    "            #simplest example is not\n",
    "            #very very good > very good\n",
    "            #but very very very not good > very very good\n",
    "            #could maybe solve with a -1 term somwhere seems to complicated though\n",
    "                \n",
    "            \n",
    "\n",
    "print(\"can probably be sorted:\")\n",
    "print(orderedcolumns)\n",
    "print(\"gonna require manual sorting:\")\n",
    "print(columnsneedmanualsorting)\n",
    "print(\"can be 1 hot encoded:\")\n",
    "print(onehotable)\n",
    "\n",
    "\n",
    "\n",
    "        "
   ]
  },
  {
   "cell_type": "code",
   "execution_count": 34,
   "metadata": {},
   "outputs": [
    {
     "name": "stdout",
     "output_type": "stream",
     "text": [
      "answers:\n",
      "['no - none', 'labour', 'liberal democrat', 'conservative', 'plaid cymru', 'brexit party', \"don't know\", 'green party', 'scottish national party (snp)', 'other', 'united kingdom independence party (ukip)', 'disagree', 'agree', 'stayed the same', 'a great deal', 'don\\x92t know', 'not at all', 'yes', 'no', 'climate changing due to human activity', 'climate not changing', 'climate changing but not due to human activity', '8', 'protecting the environment should have priority', '1', '6', '5', '9', '7', '2', 'economic growth should have priority', '3', '4', 'enriches cultural life', 'undermines cultural life', 'allow many fewer', 'allow many more', 'staying about the same', 'unite fully with the european union', 'protect our independence', 'acceptable', 'unacceptable', 'stay/remain in the eu', 'leave the eu', 'i would/will not vote', 'remain in the eu', \"the government's withdrawal deal\", 'i would not vote', 'nan', 'leave without a deal', '9999.0', 'about the same', 'the remain side', 'the leave side']\n"
     ]
    }
   ],
   "source": [
    "onehotanswers = [\"no - none\"]\n",
    "\n",
    "#print(linguisticprefixes)\n",
    "\n",
    "arr = []\n",
    "for col in onehotable:\n",
    "    \n",
    "    count = 0\n",
    "    for k in extracted_data[col]:\n",
    "        k=str(k)\n",
    "        k=k.lower()\n",
    "        count +=1\n",
    "        #if(set(onehotanswers).isdisjoint(k.split())):\n",
    "            #onehotanswers.append(k)\n",
    "        if not listoverlap(k.split(),linguisticprefixes):\n",
    "\n",
    "            #print(k)\n",
    "            #print(col)   \n",
    "            #arr.append((k,col))\n",
    "            onehotanswers.append(k)\n",
    "        if count> 1000:\n",
    "            break\n",
    "onehotanswers = list(dict.fromkeys(onehotanswers))\n",
    "#print(arr)\n",
    "print(\"answers:\")\n",
    "print(onehotanswers)\n",
    "#these can be done using scikit label thing\n",
    "\n",
    "#check this for stuff needed to be added to linguistic prefixes"
   ]
  },
  {
   "cell_type": "code",
   "execution_count": 50,
   "metadata": {},
   "outputs": [],
   "source": [
    "linguisticprefixes = ['Strongly',\"much\",\"lot\",\"little\",\"bad\",\"good\",\"very\",\"extremely\",\"neither\",\"higher\",\"lower\",\"moderate\",\"absolutely\", 'worse', 'better', 'about the same']\n",
    "lmultipliers = ['Strongly',\"much\",\"lot\",\"extremely\",\"very\",\"extremely\",\"absolutely\"]#strong multipliers\n",
    "#could split strong multipliers theres never more then 1 in a \n",
    "smultipliers = [\"little\"]#weak multipliers\n",
    "\n",
    "posadd =[\"good\",\"better\"]#map to 0>\n",
    "negadd = [\"bad\",\"lower\",\"worse\"]#map to 0<\n",
    "zadd =[\"about the same\"]#map to 0\n",
    "\n",
    "# linguisticprefixes = lmultipliers+smultiplier+posadd+zadd\n",
    "\n"
   ]
  },
  {
   "cell_type": "code",
   "execution_count": 52,
   "metadata": {},
   "outputs": [
    {
     "name": "stdout",
     "output_type": "stream",
     "text": [
      "partyid\n",
      "deficitreduce\n",
      "overseasaid\n",
      "changeeconomy\n",
      "econgenretro\n",
      "econpersonalretro\n",
      "economyresponsible\n",
      "selfpriorities_econ\n",
      "climatechange\n",
      "envirogrowth\n",
      "selfpriorities_environment\n",
      "immigcultural\n",
      "immigself\n",
      "changeimmig\n",
      "immigecon\n",
      "controlimmig\n",
      "selfpriorities_nhs\n",
      "effectseunhs\n",
      "changenhs\n",
      "euintegrationself\n",
      "cantlivewitheu_1\n",
      "cantlivewitheu_2\n",
      "cantlivewitheu_3\n",
      "cantlivewitheu_4\n",
      "selfpriorities_brexit\n",
      "eurefvote\n",
      "dealvremain\n",
      "remainvnodeal\n",
      "effectseuunemployment\n",
      "effectseutrade\n",
      "effectseuimmigration\n",
      "effectseuterror\n",
      "effectseuecon\n",
      "dealgoodbad\n",
      "happyeuleave\n",
      "euid\n",
      "eurefdoover\n",
      "cancelbrexit\n"
     ]
    },
    {
     "ename": "IndexError",
     "evalue": "index 0 is out of bounds for axis 0 with size 0",
     "output_type": "error",
     "traceback": [
      "\u001b[1;31m---------------------------------------------------------------------------\u001b[0m",
      "\u001b[1;31mIndexError\u001b[0m                                Traceback (most recent call last)",
      "\u001b[1;32m~\\AppData\\Local\\Temp/ipykernel_14068/2532746109.py\u001b[0m in \u001b[0;36m<module>\u001b[1;34m\u001b[0m\n\u001b[0;32m     24\u001b[0m         \u001b[1;32mif\u001b[0m \u001b[0mlistoverlap\u001b[0m\u001b[1;33m(\u001b[0m\u001b[0mi\u001b[0m\u001b[1;33m,\u001b[0m\u001b[0msmultipliers\u001b[0m\u001b[1;33m)\u001b[0m\u001b[1;33m:\u001b[0m\u001b[1;33m\u001b[0m\u001b[1;33m\u001b[0m\u001b[0m\n\u001b[0;32m     25\u001b[0m             \u001b[0mval\u001b[0m \u001b[1;33m=\u001b[0m \u001b[0mval\u001b[0m\u001b[1;33m*\u001b[0m\u001b[1;36m1\u001b[0m\u001b[1;33m/\u001b[0m\u001b[1;36m2\u001b[0m\u001b[1;33m\u001b[0m\u001b[1;33m\u001b[0m\u001b[0m\n\u001b[1;32m---> 26\u001b[1;33m     \u001b[0mnewdf\u001b[0m\u001b[1;33m.\u001b[0m\u001b[0mvalues\u001b[0m\u001b[1;33m[\u001b[0m\u001b[0mx\u001b[0m\u001b[1;33m,\u001b[0m\u001b[0my\u001b[0m\u001b[1;33m]\u001b[0m \u001b[1;33m=\u001b[0m \u001b[0mval\u001b[0m\u001b[1;33m\u001b[0m\u001b[1;33m\u001b[0m\u001b[0m\n\u001b[0m\u001b[0;32m     27\u001b[0m     \u001b[0mx\u001b[0m\u001b[1;33m+=\u001b[0m\u001b[1;36m1\u001b[0m\u001b[1;33m\u001b[0m\u001b[1;33m\u001b[0m\u001b[0m\n\u001b[0;32m     28\u001b[0m \u001b[0my\u001b[0m\u001b[1;33m+=\u001b[0m\u001b[1;36m1\u001b[0m\u001b[1;33m\u001b[0m\u001b[1;33m\u001b[0m\u001b[0m\n",
      "\u001b[1;31mIndexError\u001b[0m: index 0 is out of bounds for axis 0 with size 0"
     ]
    }
   ],
   "source": [
    "extracted_data.columns= extracted_data.columns.str.strip().str.lower()\n",
    "for i in extracted_data.columns:\n",
    "    print(i)\n",
    "newcols = []\n",
    "for i in orderedcolumns:\n",
    "    newcols.append(str(i).strip().lower())\n",
    "orderedcolumns = newcols\n",
    "orderable = extracted_data[orderedcolumns].copy()\n",
    "y = 0\n",
    "newdf = pd.DataFrame()\n",
    "for col in orderable.columns:    \n",
    "    x=0\n",
    "    for i in col:\n",
    "        val=1\n",
    "        i = str(i).lower().split()\n",
    "        if listoverlap(i,zadd):\n",
    "            val = 0\n",
    "        if listoverlap(i,posadd):\n",
    "            val +=2\n",
    "        if listoverlap(i,negadd):\n",
    "            val -=2          \n",
    "        if listoverlap(i,lmultipliers):\n",
    "            val = val*2\n",
    "        if listoverlap(i,smultipliers):\n",
    "            val = val*1/2\n",
    "    newdf.values[x,y] = val \n",
    "    x+=1\n",
    "y+=1\n",
    "\n",
    "newdf.to_csv()\n",
    "    "
   ]
  },
  {
   "cell_type": "code",
   "execution_count": 143,
   "metadata": {},
   "outputs": [],
   "source": [
    "list_unique_parites = extracted_data['partyId'].unique()\n",
    "list_unique_parties = list(list_unique_parites)\n",
    "party_sums = []\n",
    "for i in range(len(list_unique_parites)):\n",
    "    count = 0 \n",
    "    for x in (extracted_data['partyId'] == list_unique_parites[i]):\n",
    "        if x == True:\n",
    "            count += 1\n",
    "    party_sums.append(count)\n",
    "        "
   ]
  },
  {
   "cell_type": "code",
   "execution_count": 159,
   "metadata": {},
   "outputs": [],
   "source": [
    "party_data = {'Parties':list_unique_parites,'Count':party_sums}\n",
    "data_parties = pd.DataFrame(party_data)\n"
   ]
  },
  {
   "cell_type": "code",
   "execution_count": 162,
   "metadata": {},
   "outputs": [],
   "source": [
    "percentages =[]\n",
    "for i in data_parties['Count']:\n",
    "    percentages.append(int(i)/data_parties.sum()*100)\n",
    "\n",
    "data_parties['Percentages']= percentages\n",
    "data_parties"
   ]
  },
  {
   "cell_type": "code",
   "execution_count": 170,
   "metadata": {},
   "outputs": [
    {
     "data": {
      "image/png": "[encoded data removed]",
      "text/plain": [
       "<Figure size 432x288 with 1 Axes>"
      ]
     },
     "metadata": {},
     "output_type": "display_data"
    },
    {
     "data": {
      "text/plain": [
       "<Figure size 432x288 with 0 Axes>"
      ]
     },
     "metadata": {},
     "output_type": "display_data"
    }
   ],
   "source": [
    "import matplotlib.pyplot as plt\n",
    "plt.pie(data_parties['Count'],labels = data_parties['Parties'],shadow = False)\n",
    "plt.figure(facecolor=\"white\")\n",
    "plt.show()"
   ]
  },
  {
   "cell_type": "markdown",
   "metadata": {},
   "source": [
    "K-prototype clustering"
   ]
  },
  {
   "cell_type": "code",
   "execution_count": 202,
   "metadata": {},
   "outputs": [],
   "source": [
    "k_modes_data = extracted_data.drop(['partyId','enviroGrowth','immigCultural','immigSelf','immigEcon','EUIntegrationSelf','happyEULeave'],axis=1)"
   ]
  },
  {
   "cell_type": "code",
   "execution_count": 204,
   "metadata": {},
   "outputs": [],
   "source": [
    "k_modes_data_matrix = k_modes_data.to_numpy()\n",
    "\n"
   ]
  },
  {
   "cell_type": "code",
   "execution_count": 206,
   "metadata": {},
   "outputs": [],
   "source": [
    "from kmodes.kmodes import KModes"
   ]
  },
  {
   "cell_type": "code",
   "execution_count": 207,
   "metadata": {},
   "outputs": [
    {
     "name": "stdout",
     "output_type": "stream",
     "text": [
      "Cluster initiation: 1\n",
      "Cluster initiation: 2\n",
      "Cluster initiation: 3\n",
      "Cluster initiation: 4\n",
      "Cluster initiation: 5\n",
      "Cluster initiation: 6\n",
      "Cluster initiation: 7\n",
      "Cluster initiation: 8\n",
      "Cluster initiation: 9\n",
      "Cluster initiation: 10\n",
      "10\n"
     ]
    }
   ],
   "source": [
    "cost = []\n",
    "for cluster in range(1, 11):\n",
    "    kmodes = KModes(n_clusters = cluster, init = 'Huang', random_state = 0)\n",
    "    kmodes.fit_predict(k_modes_data_matrix)\n",
    "    cost.append(kmodes.cost_)\n",
    "    print('Cluster initiation: {}'.format(cluster))\n",
    "  \n",
    "print(len(cost))"
   ]
  },
  {
   "cell_type": "code",
   "execution_count": 208,
   "metadata": {},
   "outputs": [],
   "source": [
    "df_cost = pd.DataFrame({'Cluster': range(1, 11), 'Cost': cost})"
   ]
  },
  {
   "cell_type": "code",
   "execution_count": 210,
   "metadata": {},
   "outputs": [],
   "source": [
    "from plotnine import *\n",
    "import plotnine"
   ]
  },
  {
   "cell_type": "code",
   "execution_count": 211,
   "metadata": {},
   "outputs": [
    {
     "data": {
      "image/png": "[encoded data removed]",
      "text/plain": [
       "<Figure size 800x480 with 1 Axes>"
      ]
     },
     "metadata": {
      "needs_background": "light"
     },
     "output_type": "display_data"
    },
    {
     "data": {
      "text/plain": [
       "<ggplot: (132833703900)>"
      ]
     },
     "execution_count": 211,
     "metadata": {},
     "output_type": "execute_result"
    }
   ],
   "source": [
    "\n",
    "plotnine.options.figure_size = (8, 4.8)\n",
    "(\n",
    "    ggplot(data = df_cost)+\n",
    "    geom_line(aes(x = 'Cluster',\n",
    "                  y = 'Cost'))+\n",
    "    geom_point(aes(x = 'Cluster',\n",
    "                   y = 'Cost'))+\n",
    "    geom_label(aes(x = 'Cluster',\n",
    "                   y = 'Cost',\n",
    "                   label = 'Cluster'),\n",
    "               size = 10,\n",
    "               nudge_y = 1000) +\n",
    "    labs(title = 'Optimal number of cluster with Elbow Method')+\n",
    "    xlab('Number of Clusters k')+\n",
    "    ylab('Cost')+\n",
    "    theme_minimal()\n",
    ")"
   ]
  },
  {
   "cell_type": "code",
   "execution_count": 212,
   "metadata": {},
   "outputs": [
    {
     "data": {
      "text/plain": [
       "array([0, 4, 0, ..., 2, 0, 4], dtype=uint16)"
      ]
     },
     "execution_count": 212,
     "metadata": {},
     "output_type": "execute_result"
    }
   ],
   "source": [
    "kmodes = KModes(n_jobs = -1, n_clusters = 6, init = 'Huang', random_state = 0)\n",
    "kmodes.fit_predict(k_modes_data_matrix)"
   ]
  },
  {
   "cell_type": "code",
   "execution_count": 256,
   "metadata": {},
   "outputs": [],
   "source": [
    "extracted_data['Cluster Labels'] = kmodes.labels_\n"
   ]
  },
  {
   "cell_type": "code",
   "execution_count": 234,
   "metadata": {},
   "outputs": [],
   "source": [
    "assignments_cluster_0 =[]\n",
    "assignments_cluster_1 =[]\n",
    "assignments_cluster_2 =[]\n",
    "assignments_cluster_3 =[]\n",
    "assignments_cluster_4 =[]\n",
    "assignments_cluster_5 =[]\n",
    "for x in range(len(extracted_data['partyId'])):\n",
    "    if extracted_data.loc[x,'Cluster Labels'] == 0:\n",
    "        assignments_cluster_0.append(extracted_data.loc[x,'partyId'])\n",
    "    elif extracted_data.loc[x,'Cluster Labels'] == 1:\n",
    "        assignments_cluster_1.append(extracted_data.loc[x,'partyId'])\n",
    "    elif extracted_data.loc[x,'Cluster Labels'] == 2:\n",
    "        assignments_cluster_2.append(extracted_data.loc[x,'partyId'])\n",
    "    elif extracted_data.loc[x,'Cluster Labels'] == 3:\n",
    "        assignments_cluster_3.append(extracted_data.loc[x,'partyId'])\n",
    "    elif extracted_data.loc[x,'Cluster Labels'] == 4:\n",
    "        assignments_cluster_4.append(extracted_data.loc[x,'partyId'])\n",
    "    else:\n",
    "        assignments_cluster_5.append(extracted_data.loc[x,'partyId'])\n",
    "    \n",
    "    \n",
    "        \n",
    "    "
   ]
  },
  {
   "cell_type": "code",
   "execution_count": 255,
   "metadata": {},
   "outputs": [
    {
     "data": {
      "text/plain": [
       "Labour                                      2105\n",
       "No - none                                    827\n",
       "Liberal Democrat                             600\n",
       "Green Party                                  336\n",
       "Scottish National Party (SNP)                290\n",
       "Conservative                                 219\n",
       "Don't know                                   200\n",
       "Other                                         50\n",
       "Plaid Cymru                                   33\n",
       "Brexit Party                                   8\n",
       "United Kingdom Independence Party (UKIP)       3\n",
       "Name: Assignments, dtype: int64"
      ]
     },
     "execution_count": 255,
     "metadata": {},
     "output_type": "execute_result"
    }
   ],
   "source": [
    "Cluster1 = pd.DataFrame({'Assignments': assignments_cluster_5})\n",
    "Cluster1['Assignments'].value_counts()\n"
   ]
  }
 ],
 "metadata": {
  "interpreter": {
   "hash": "62c95e99237af2378f1ef5afb241d0a0f8e6d9f52b046f51f6de2dd208ad2ab4"
  },
  "kernelspec": {
   "display_name": "Python 3.8.8 64-bit ('base': conda)",
   "language": "python",
   "name": "python3"
  },
  "language_info": {
   "codemirror_mode": {
    "name": "ipython",
    "version": 3
   },
   "file_extension": ".py",
   "mimetype": "text/x-python",
   "name": "python",
   "nbconvert_exporter": "python",
   "pygments_lexer": "ipython3",
   "version": "3.8.12"
  },
  "orig_nbformat": 4
 },
 "nbformat": 4,
 "nbformat_minor": 2
}
